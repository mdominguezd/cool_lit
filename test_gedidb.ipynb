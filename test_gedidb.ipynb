{
 "cells": [
  {
   "cell_type": "markdown",
   "metadata": {},
   "source": [
    "---\n",
    "title: \"Some tests with gediDB\"\n",
    "execute: \n",
    "  enabled: true\n",
    "---"
   ]
  },
  {
   "cell_type": "code",
   "execution_count": null,
   "metadata": {},
   "outputs": [],
   "source": [
    "import geopandas as gpd\n",
    "import gedidb as gdb\n",
    "import plotly.figure_factory as ff\n",
    "import plotly.express as px\n",
    "import plotly.io as pio\n",
    "import numpy as np\n",
    "import os\n",
    "\n",
    "# Instantiate the GEDIProvider\n",
    "provider = gdb.GEDIProvider(\n",
    "    storage_type='s3',\n",
    "    s3_bucket=\"dog.gedidb.gedi-l2-l4-v002\",\n",
    "    url=\"https://s3.gfz-potsdam.de\"\n",
    ")\n",
    "\n",
    "# Load region of interest (ROI)\n",
    "region_of_interest = gpd.read_file('MougueirasFire.geojson')\n",
    "\n",
    "# Define variables to query and quality filters\n",
    "vars_selected = [\"agbd\", 'wsci']\n",
    "\n",
    "# Query data\n",
    "gedi_data = provider.get_data(\n",
    "    variables=vars_selected,\n",
    "    query_type=\"bounding_box\",\n",
    "    geometry=region_of_interest,\n",
    "    start_time=\"2019-09-26\",\n",
    "    end_time=\"2020-09-27\",\n",
    "    return_type='dataframe'\n",
    ")\n",
    "\n",
    "gdf = gpd.GeoDataFrame(gedi_data, geometry=gpd.points_from_xy(x= gedi_data['longitude'], y = gedi_data['latitude']))\n",
    "gdf.crs = 4326\n",
    "\n",
    "gedi_ba = gpd.sjoin(gdf, region_of_interest, how='inner')"
   ]
  },
  {
   "cell_type": "code",
   "execution_count": null,
   "metadata": {},
   "outputs": [],
   "source": []
  },
  {
   "cell_type": "code",
   "execution_count": null,
   "metadata": {},
   "outputs": [
    {
     "data": {
      "text/html": [
       "<iframe\n",
       "    scrolling=\"no\"\n",
       "    width=\"100%\"\n",
       "    height=\"545px\"\n",
       "    src=\"iframe_figures/figure_2.html\"\n",
       "    frameborder=\"0\"\n",
       "    allowfullscreen\n",
       "></iframe>\n"
      ]
     },
     "metadata": {},
     "output_type": "display_data"
    }
   ],
   "source": [
    "#| title: GDP and Life Expectancy\n",
    "pio.renderers.default = \"iframe\"\n",
    "\n",
    "mb_token = os.environ.get('MAPBOX_TOKEN')\n",
    "\n",
    "px.set_mapbox_access_token(mb_token)\n",
    "\n",
    "fig = ff.create_hexbin_mapbox(\n",
    "    data_frame=gedi_ba, lat=\"latitude\", \n",
    "    lon=\"longitude\", color = 'agbd',\n",
    "    color_continuous_scale = 'Greens', agg_func=np.mean,\n",
    "    nx_hexagon=15, opacity=0.9, labels={\"color\": \"AGBD [Mg/ha]\"},\n",
    ")\n",
    "fig.update_layout(margin=dict(b=0, t=0, l=0, r=0))\n",
    "fig.show()"
   ]
  },
  {
   "cell_type": "code",
   "execution_count": 10,
   "metadata": {},
   "outputs": [],
   "source": []
  }
 ],
 "metadata": {
  "kernelspec": {
   "display_name": "webapp",
   "language": "python",
   "name": "python3"
  },
  "language_info": {
   "codemirror_mode": {
    "name": "ipython",
    "version": 3
   },
   "file_extension": ".py",
   "mimetype": "text/x-python",
   "name": "python",
   "nbconvert_exporter": "python",
   "pygments_lexer": "ipython3",
   "version": "3.12.9"
  }
 },
 "nbformat": 4,
 "nbformat_minor": 2
}
