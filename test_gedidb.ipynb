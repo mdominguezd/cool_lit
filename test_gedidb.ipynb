{
 "cells": [
  {
   "cell_type": "markdown",
   "metadata": {},
   "source": [
    "---\n",
    "title: \"Some tests with gediDB\"\n",
    "execute: \n",
    "  enabled: true\n",
    "---"
   ]
  },
  {
   "cell_type": "code",
   "execution_count": 1,
   "metadata": {},
   "outputs": [],
   "source": [
    "import geopandas as gpd\n",
    "import gedidb as gdb\n",
    "import plotly.express as px\n",
    "import plotly.io as pio\n",
    "from shapely.geometry import Polygon\n",
    "\n",
    "pio.renderers.default = \"iframe\"\n",
    "\n",
    "# Instantiate the GEDIProvider\n",
    "provider = gdb.GEDIProvider(\n",
    "    storage_type='s3',\n",
    "    s3_bucket=\"dog.gedidb.gedi-l2-l4-v002\",\n",
    "    url=\"https://s3.gfz-potsdam.de\"\n",
    ")\n",
    "\n",
    "# Load region of interest (ROI)\n",
    "region_of_interest = gpd.read_file('MougueirasFire.geojson')\n",
    "\n",
    "# Define variables to query and quality filters\n",
    "vars_selected = [\"rh_95\", 'rh_50']\n",
    "\n",
    "# Query data\n",
    "gedi_data_pre = provider.get_data(\n",
    "    variables=vars_selected,\n",
    "    query_type=\"bounding_box\",\n",
    "    geometry=region_of_interest,\n",
    "    start_time=\"2018-09-26\",\n",
    "    end_time=\"2020-09-27\",\n",
    "    return_type='dataframe'\n",
    ")\n",
    "\n",
    "gedi_data_post = provider.get_data(\n",
    "    variables=vars_selected,\n",
    "    query_type=\"bounding_box\",\n",
    "    geometry=region_of_interest,\n",
    "    start_time=\"2020-09-27\",\n",
    "    end_time=\"2021-09-27\",\n",
    "    return_type='dataframe'\n",
    ")"
   ]
  },
  {
   "cell_type": "markdown",
   "metadata": {},
   "source": [
    "## Change in RH_95 for Oleiros fire in Portugal"
   ]
  },
  {
   "cell_type": "code",
   "execution_count": 2,
   "metadata": {},
   "outputs": [
    {
     "data": {
      "text/html": [
       "<iframe\n",
       "    scrolling=\"no\"\n",
       "    width=\"100%\"\n",
       "    height=\"545px\"\n",
       "    src=\"iframe_figures/figure_2.html\"\n",
       "    frameborder=\"0\"\n",
       "    allowfullscreen\n",
       "></iframe>\n"
      ]
     },
     "metadata": {},
     "output_type": "display_data"
    }
   ],
   "source": [
    "#| echo: false\n",
    "import warnings\n",
    "warnings.filterwarnings(\"ignore\")\n",
    "\n",
    "gdf_pre = gpd.GeoDataFrame(gedi_data_pre, geometry=gpd.points_from_xy(x= gedi_data_pre['longitude'], y = gedi_data_pre['latitude']))\n",
    "gdf_post = gpd.GeoDataFrame(gedi_data_post, geometry=gpd.points_from_xy(x= gedi_data_post['longitude'], y = gedi_data_post['latitude']))\n",
    "\n",
    "gdf_pre.crs = 4326\n",
    "gdf_post.crs = 4326\n",
    "\n",
    "# gedi_ba = gpd.sjoin(gdf_pre, region_of_interest, how='inner').drop(columns='index_right')\n",
    "\n",
    "# Create a grid over the extent of your points\n",
    "region_of_interest.to_crs(epsg=32629, inplace=True)  # Project to UTM\n",
    "\n",
    "bounds = region_of_interest.total_bounds  # Get the bounds of your GeoDataFrame\n",
    "\n",
    "grid_cells = []\n",
    "\n",
    "resolution = 250\n",
    "\n",
    "for x0 in range(int(bounds[0]), int(bounds[2]), resolution):  # Adjust grid size (e.g., 1000 meters)\n",
    "    for y0 in range(int(bounds[1]), int(bounds[3]), resolution):\n",
    "        grid_cells.append(Polygon([(x0, y0), (x0 + resolution, y0), (x0 + resolution, y0 + resolution), (x0, y0 + resolution)]))\n",
    "\n",
    "grid = gpd.GeoDataFrame(grid_cells, columns=['geometry'], crs=region_of_interest.crs)\n",
    "\n",
    "# Spatial join to aggregate points in each grid cell\n",
    "grid = gpd.sjoin(grid.to_crs(4326), gdf_pre, how='inner').drop(columns='index_right')\n",
    "\n",
    "aggregated = grid[['geometry', 'rh_95', 'rh_50']].dissolve(by = grid.index, aggfunc='mean').to_crs(epsg=4326)\n",
    "\n",
    "delta = gpd.sjoin(aggregated, gdf_post).drop(['index_right', 'time', 'shot_number', 'latitude', 'longitude'], axis = 1).reset_index().dissolve('index')\n",
    "\n",
    "delta['delta_rh_95'] = delta['rh_95_right'] - delta['rh_95_left']\n",
    "delta['delta_rh_50'] = delta['rh_50_right'] - delta['rh_50_left']\n",
    "\n",
    "delta =  gpd.sjoin(delta, region_of_interest.to_crs(4326), how='inner').drop(columns='index_right')\n",
    "\n",
    "fig = px.choropleth_map(delta, geojson = delta.geometry, \n",
    "                  locations=delta.index, color='delta_rh_95',\n",
    "                  color_continuous_scale=\"RdBu\",\n",
    "                  range_color=(-5, 5), \n",
    "                  center = {'lon' : delta.centroid.x.mean(), 'lat' : delta.centroid.y.mean()},\n",
    "                  zoom = 10)\n",
    "\n",
    "\n",
    "fig.update_layout(margin={\"r\":0,\"t\":0,\"l\":0,\"b\":0})\n",
    "\n",
    "fig.show()\n"
   ]
  },
  {
   "cell_type": "markdown",
   "metadata": {},
   "source": [
    "## Change in RH_50 for Oleiros fire in Portugal"
   ]
  },
  {
   "cell_type": "code",
   "execution_count": 3,
   "metadata": {},
   "outputs": [
    {
     "data": {
      "text/html": [
       "<iframe\n",
       "    scrolling=\"no\"\n",
       "    width=\"100%\"\n",
       "    height=\"545px\"\n",
       "    src=\"iframe_figures/figure_3.html\"\n",
       "    frameborder=\"0\"\n",
       "    allowfullscreen\n",
       "></iframe>\n"
      ]
     },
     "metadata": {},
     "output_type": "display_data"
    }
   ],
   "source": [
    "#| echo: false\n",
    "\n",
    "fig = px.choropleth_map(delta, geojson = delta.geometry, \n",
    "                  locations=delta.index, color='delta_rh_50',\n",
    "                  color_continuous_scale=\"RdBu\",\n",
    "                  range_color=(-5, 5), \n",
    "                  center = {'lon' : delta.centroid.x.mean(), 'lat' : delta.centroid.y.mean()},\n",
    "                  zoom = 10)\n",
    "\n",
    "\n",
    "fig.update_layout(margin={\"r\":0,\"t\":0,\"l\":0,\"b\":0})\n",
    "\n",
    "fig.show()"
   ]
  },
  {
   "cell_type": "code",
   "execution_count": 4,
   "metadata": {},
   "outputs": [],
   "source": []
  }
 ],
 "metadata": {
  "kernelspec": {
   "display_name": "webapps",
   "language": "python",
   "name": "python3"
  },
  "language_info": {
   "codemirror_mode": {
    "name": "ipython",
    "version": 3
   },
   "file_extension": ".py",
   "mimetype": "text/x-python",
   "name": "python",
   "nbconvert_exporter": "python",
   "pygments_lexer": "ipython3",
   "version": "3.12.9"
  }
 },
 "nbformat": 4,
 "nbformat_minor": 2
}
